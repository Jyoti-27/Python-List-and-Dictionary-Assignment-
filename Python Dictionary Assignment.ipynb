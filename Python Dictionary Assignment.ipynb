{
 "cells": [
  {
   "cell_type": "markdown",
   "metadata": {},
   "source": [
    "- Q. Given a dictionary: \n",
    "- car = {\"brand\": \"Ford”, “model\":\"Mustang\",\"year\":1964}\n",
    "\n",
    "- Q.1. Print the value of the \"model\" key of the car dictionary. \n",
    "\n",
    "- Q.2. Change the \"year\" value from 1964 to 2020. \n",
    "\n",
    "- Q.3. Add the key/value pair \"colour”: \"red\" to the car dictionary \n"
   ]
  },
  {
   "cell_type": "code",
   "execution_count": 2,
   "metadata": {},
   "outputs": [
    {
     "name": "stdout",
     "output_type": "stream",
     "text": [
      "Model is:  Mustang\n"
     ]
    }
   ],
   "source": [
    "# 1. Print the value of the \"model\" key of the car dictionary.\n",
    "car = {\"brand\": \"Ford\",\"model\":\"Mustang\",\"year\":1964}\n",
    "y=car.get(\"model\")\n",
    "print(\"Model is: \", y)"
   ]
  },
  {
   "cell_type": "code",
   "execution_count": 5,
   "metadata": {},
   "outputs": [
    {
     "name": "stdout",
     "output_type": "stream",
     "text": [
      "Year changed to : 2000\n"
     ]
    }
   ],
   "source": [
    "# 2. Change the \"year\" value from 1964 to 2020.\n",
    "car = {\"brand\": \"Ford\",\"model\":\"Mustang\",\"year\":1964}\n",
    "car[\"year\"] = 2000\n",
    "print(\"Year changed to :\" ,car.get(\"year\"))"
   ]
  },
  {
   "cell_type": "code",
   "execution_count": 7,
   "metadata": {},
   "outputs": [
    {
     "name": "stdout",
     "output_type": "stream",
     "text": [
      "red\n",
      "{'brand': 'Ford', 'model': 'Mustang', 'year': 1964, 'color': 'red'}\n"
     ]
    }
   ],
   "source": [
    "# 3. Add the key/value pair \"colour”: \"red\" to the car dictionary\n",
    "car = {\"brand\": \"Ford\",\"model\":\"Mustang\",\"year\":1964}\n",
    "car[\"color\"]=\"red\"\n",
    "print(car.get(\"color\"))\n",
    "print(car)"
   ]
  },
  {
   "cell_type": "markdown",
   "metadata": {},
   "source": [
    "- Q.  Given a dictionary inventory : \n",
    "- inventory = {'gold' : 500, 'pouch' : ['flint', 'twine', 'gemstone'], 'backpack' : ['xylophone’, ‘dagger', 'bedroll’, ‘bread’, ‘loaf']} \n",
    "- Q.4. Add a key to inventory called 'pocket' and Set the value of 'pocket' to be a list consisting of the strings 'seashell', 'strange berry', and 'lint'. \n",
    "- Q.5. Sort the items in the list stored under the 'backpack' key. \n",
    "- Q.6. Remove 'dagger' from the list of items stored under the 'backpack' key. \n",
    "- Q.7. Add 50 to the number stored under the 'gold' key. \n"
   ]
  },
  {
   "cell_type": "code",
   "execution_count": 9,
   "metadata": {},
   "outputs": [
    {
     "name": "stdout",
     "output_type": "stream",
     "text": [
      "{'gold': 500, 'pouch': ['flint', 'twine', 'gemstone'], 'backpack': ['xylophone’, ‘dagger', 'bedroll’, ‘bread’, ‘loaf'], 'pocket': ['seashell', 'strange berry', 'lint']}\n"
     ]
    }
   ],
   "source": [
    "# 4. Add a key to inventory called 'pocket' and Set the value of 'pocket' to be \n",
    "# a list consisting of the strings 'seashell', 'strange berry', and 'lint'.\n",
    "inventory = {'gold' : 500, 'pouch' : ['flint', 'twine', 'gemstone'], 'backpack' : ['xylophone’, ‘dagger', 'bedroll’, ‘bread’, ‘loaf']}\n",
    "inventory[\"pocket\"]=[\"seashell\",\"strange berry\",\"lint\"]\n",
    "print(inventory)"
   ]
  },
  {
   "cell_type": "code",
   "execution_count": 11,
   "metadata": {},
   "outputs": [
    {
     "name": "stdout",
     "output_type": "stream",
     "text": [
      "['bedroll’, ‘bread’, ‘loaf', 'xylophone’, ‘dagger']\n"
     ]
    }
   ],
   "source": [
    "# 5. Sort the items in the list stored under the 'backpack' key.\n",
    "inventory = {'gold' : 500, 'pouch' : ['flint', 'twine', 'gemstone'], 'backpack' : ['xylophone’, ‘dagger', 'bedroll’, ‘bread’, ‘loaf']}\n",
    "inventory['backpack'].sort()\n",
    "print(inventory['backpack'])"
   ]
  },
  {
   "cell_type": "code",
   "execution_count": 15,
   "metadata": {},
   "outputs": [
    {
     "name": "stdout",
     "output_type": "stream",
     "text": [
      "Removed dagger from dictionary : {'backpack': ['bedroll', 'bread', 'loaf', 'xylophone']}\n"
     ]
    }
   ],
   "source": [
    "# 6.Remove 'dagger' from the list of items stored under the 'backpack' key. \n",
    "inventory = {'gold' : 500, 'pouch' : ['flint', 'twine', 'gemstone'], 'backpack' : ['xylophone’, ‘dagger', 'bedroll’, ‘bread’, ‘loaf']}\n",
    "myDict = {'backpack': ['bedroll', 'bread', 'loaf', 'xylophone', 'dagger']}\n",
    "for t in myDict.values():\n",
    "    if ('dagger') in t:\n",
    "        t.remove('dagger')\n",
    "print(\"Removed dagger from dictionary :\", myDict)"
   ]
  },
  {
   "cell_type": "code",
   "execution_count": 16,
   "metadata": {},
   "outputs": [
    {
     "name": "stdout",
     "output_type": "stream",
     "text": [
      "550\n"
     ]
    }
   ],
   "source": [
    "# 7. Add 50 to the number stored under the 'gold' key.\n",
    "inventory = {'gold' : 500, 'pouch' : ['flint', 'twine', 'gemstone'], 'backpack' : ['xylophone’, ‘dagger', 'bedroll’, ‘bread’, ‘loaf']}\n",
    "inventory[\"gold\"] += 50\n",
    "print(inventory['gold'])"
   ]
  },
  {
   "cell_type": "markdown",
   "metadata": {},
   "source": [
    "- Q.8  Write a Python script to concatenate three dictionaries to create a new one. Make dictionaries yourself. "
   ]
  },
  {
   "cell_type": "code",
   "execution_count": 3,
   "metadata": {},
   "outputs": [
    {
     "name": "stdout",
     "output_type": "stream",
     "text": [
      "{'DS': 1, 'ML': 2, 'NPL': 3} {'AI': 4, 'DS': 5, 'DMN': 6} {'NLP': 7, 'Aug': 8, 'DL': 9}\n",
      "Updated dictionaries : {'DS': 5, 'ML': 2, 'NPL': 3, 'AI': 4, 'DMN': 6, 'NLP': 7, 'Aug': 8, 'DL': 9}\n"
     ]
    }
   ],
   "source": [
    "dict1 = {'DS': 1, 'ML': 2, 'NPL' : 3 }\n",
    "dict2 = {'AI': 4,'DS': 5,'DMN' : 6 }\n",
    "dict3={'NLP':7, 'Aug': 8,'DL': 9}\n",
    "print(dict1, dict2, dict3)\n",
    "dict4 = {**dict1, **dict2, **dict3}\n",
    "print('Updated dictionaries :' , dict4)"
   ]
  },
  {
   "cell_type": "markdown",
   "metadata": {},
   "source": [
    "- Q.9 Write a Python program to sum all the items in a dictionary."
   ]
  },
  {
   "cell_type": "code",
   "execution_count": 23,
   "metadata": {},
   "outputs": [
    {
     "name": "stdout",
     "output_type": "stream",
     "text": [
      "Sum of all items in dictionary is : 1444.6\n"
     ]
    }
   ],
   "source": [
    "items_dict = {'value1':624.99,'value2':298.18,'value3':543.55,'value4':456.78, 'value5':-478.9}\n",
    "print(\"Sum of all items in dictionary is :\", sum(items_dict.values()))"
   ]
  },
  {
   "cell_type": "markdown",
   "metadata": {},
   "source": [
    "- Q.10 Write a Python script to check whether a given key already exists in a dictionary. \n",
    "       d = {'foo': 100, 'bar': 200, 'baz': 300} \n"
   ]
  },
  {
   "cell_type": "code",
   "execution_count": 1,
   "metadata": {},
   "outputs": [
    {
     "name": "stdout",
     "output_type": "stream",
     "text": [
      "Given key exists\n",
      "Given key dosn't exists\n"
     ]
    }
   ],
   "source": [
    "# First Method\n",
    "d = {'foo': 100, 'bar': 200, 'baz': 300}\n",
    "def check(z):\n",
    "    if z in d:\n",
    "        print(\"Given key exists\")\n",
    "    else:\n",
    "        print(\"Given key dosn't exists\")\n",
    "check('bar')\n",
    "check('bar  ')"
   ]
  },
  {
   "cell_type": "code",
   "execution_count": 2,
   "metadata": {},
   "outputs": [
    {
     "name": "stdout",
     "output_type": "stream",
     "text": [
      "Key is present in the dictionary\n"
     ]
    }
   ],
   "source": [
    "# Second Method\n",
    "d = {'foo': 100, 'bar': 200, 'baz': 300}\n",
    "def is_key_present(x):\n",
    "    if x in d:\n",
    "        print('Key is present in the dictionary')\n",
    "    else:\n",
    "        print('Key is not present in the dictionary')\n",
    "is_key_present('bar')\n"
   ]
  },
  {
   "cell_type": "markdown",
   "metadata": {},
   "source": [
    "- Q.11 What method call will delete the entry whose value is 200? "
   ]
  },
  {
   "cell_type": "code",
   "execution_count": 5,
   "metadata": {},
   "outputs": [
    {
     "name": "stdout",
     "output_type": "stream",
     "text": [
      "[100, 300, 400, 500, 600]\n"
     ]
    }
   ],
   "source": [
    "# First Method\n",
    "values = [100, 200, 300, 400, 500, 600]\n",
    "values.remove(200)\n",
    "print(values)"
   ]
  },
  {
   "cell_type": "code",
   "execution_count": 8,
   "metadata": {},
   "outputs": [
    {
     "name": "stdout",
     "output_type": "stream",
     "text": [
      "Could not find the value +200\n",
      "Found 200 hence deleted and the values remaining are\n",
      "[100, 300, 400, 500, 600]\n"
     ]
    }
   ],
   "source": [
    "# Second Method\n",
    "values1 = [100, 200, 300, 400, 500, 600]\n",
    "def check1(value):\n",
    "    if value in values1:\n",
    "        print(\"Found\", value, \"hence deleted and the values remaining are\")\n",
    "    else:\n",
    "        print(\"Could not find the value\", value)\n",
    "check1(\"+200\")\n",
    "check1(200)\n",
    "values1.remove(200)\n",
    "print(values1)"
   ]
  },
  {
   "cell_type": "markdown",
   "metadata": {},
   "source": [
    "- Q.12 Write a Python program to check multiple keys exists in a dictionary."
   ]
  },
  {
   "cell_type": "code",
   "execution_count": 11,
   "metadata": {},
   "outputs": [
    {
     "name": "stdout",
     "output_type": "stream",
     "text": [
      "True\n",
      "True\n",
      "False\n"
     ]
    }
   ],
   "source": [
    "# First Method\n",
    "weeks = {\"Mon\":1, \"Tue\":2, \"Wed\":3, \"Thu\":4}\n",
    "print(weeks.keys() >= {'Mon', 'Wed'})\n",
    "print(weeks.keys() >= {'Wed', 'Thu'})\n",
    "print(weeks.keys() >= {'Mon', 'Fri'})"
   ]
  },
  {
   "cell_type": "code",
   "execution_count": 12,
   "metadata": {},
   "outputs": [
    {
     "name": "stdout",
     "output_type": "stream",
     "text": [
      "True\n",
      "False\n",
      "keys are present\n",
      "keys are not present\n"
     ]
    }
   ],
   "source": [
    "# Second Method \n",
    "# creating set of keys that we want to compare \n",
    "s1 = set(['Mon', 'Wed']) \n",
    "s2 = set(['Mon', 'Fri']) \n",
    "  \n",
    "print(s1.issubset(weeks.keys())) \n",
    "print(s2.issubset(weeks.keys()))\n",
    "\n",
    "if all(key in weeks for key in (s1)): \n",
    "    print(\"keys are present\") \n",
    "else: \n",
    "    print(\"keys are not present\") \n",
    "  \n",
    "# using if, all statement  \n",
    "if all(key in weeks for key in (s2)): \n",
    "    print(\"keys are present\") \n",
    "else: \n",
    "    print(\"keys are not present\")"
   ]
  },
  {
   "cell_type": "code",
   "execution_count": null,
   "metadata": {},
   "outputs": [],
   "source": []
  }
 ],
 "metadata": {
  "kernelspec": {
   "display_name": "Python 3",
   "language": "python",
   "name": "python3"
  },
  "language_info": {
   "codemirror_mode": {
    "name": "ipython",
    "version": 3
   },
   "file_extension": ".py",
   "mimetype": "text/x-python",
   "name": "python",
   "nbconvert_exporter": "python",
   "pygments_lexer": "ipython3",
   "version": "3.7.6"
  }
 },
 "nbformat": 4,
 "nbformat_minor": 4
}
