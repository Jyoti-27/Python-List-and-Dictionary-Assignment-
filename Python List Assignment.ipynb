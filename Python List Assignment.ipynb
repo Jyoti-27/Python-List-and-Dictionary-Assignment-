{
 "cells": [
  {
   "cell_type": "markdown",
   "metadata": {},
   "source": [
    "- Q.1 City = [‘Gurgaon’, ’Mumbai’, ’Bangalore’] \n",
    "   \n",
    "    i) Print the second item from the list. \n",
    "    \n",
    "    ii) Change the value from \"Gurgaon\" to \"Kerala\" \n",
    "    \n",
    "    iii) Remove the last element of the list. "
   ]
  },
  {
   "cell_type": "code",
   "execution_count": 3,
   "metadata": {},
   "outputs": [
    {
     "name": "stdout",
     "output_type": "stream",
     "text": [
      "Mumbai\n"
     ]
    }
   ],
   "source": [
    "# i) Print the second item from the list.\n",
    "City = ['Gurgaon', 'Mumbai', 'Bangalore']\n",
    "print(City[1])"
   ]
  },
  {
   "cell_type": "code",
   "execution_count": 4,
   "metadata": {},
   "outputs": [
    {
     "name": "stdout",
     "output_type": "stream",
     "text": [
      "['Kerala', 'Mumbai', 'Bangalore']\n"
     ]
    }
   ],
   "source": [
    "# ii) Change the value from \"Gurgaon\" to \"Kerala\"\n",
    "City = ['Gurgaon', 'Mumbai', 'Bangalore']\n",
    "City[0]='Kerala'\n",
    "print(City)"
   ]
  },
  {
   "cell_type": "code",
   "execution_count": 3,
   "metadata": {},
   "outputs": [
    {
     "name": "stdout",
     "output_type": "stream",
     "text": [
      "['Gurgaon', 'Mumbai']\n"
     ]
    }
   ],
   "source": [
    "# iii) Remove the last element of the list.\n",
    "City = ['Gurgaon', 'Mumbai', 'Bangalore']\n",
    "City.remove('Bangalore')\n",
    "print(City)"
   ]
  },
  {
   "cell_type": "markdown",
   "metadata": {},
   "source": [
    "- Q.2 Use negative indexing to print the last item in the list. Make a list by yourself. "
   ]
  },
  {
   "cell_type": "code",
   "execution_count": 2,
   "metadata": {},
   "outputs": [
    {
     "name": "stdout",
     "output_type": "stream",
     "text": [
      "T\n",
      "Last Element is: T\n"
     ]
    }
   ],
   "source": [
    "# Example 1\n",
    "negative_list = ['D', 'A', 'T', 'A', 'S', 'C', 'I', 'E', 'N', 'T', 'I', 'S', 'T']\n",
    "print(negative_list[-1])\n",
    "print(\"Last Element is:\",negative_list[-1])"
   ]
  },
  {
   "cell_type": "code",
   "execution_count": 14,
   "metadata": {},
   "outputs": [
    {
     "name": "stdout",
     "output_type": "stream",
     "text": [
      "Bangalore\n"
     ]
    }
   ],
   "source": [
    "# Example 2\n",
    "City = ['Gurgaon', 'Mumbai', 'Bangalore']\n",
    "print(City[-1])"
   ]
  },
  {
   "cell_type": "markdown",
   "metadata": {},
   "source": [
    "- Q.3 Use a range of indexes to print the third, fourth, and fifth item in the list. Make a list by yourself. "
   ]
  },
  {
   "cell_type": "code",
   "execution_count": 3,
   "metadata": {},
   "outputs": [
    {
     "name": "stdout",
     "output_type": "stream",
     "text": [
      "Third, fourth and fifth items in the list are : ['Poonam', 'Shabdashree', 'Latika']\n"
     ]
    }
   ],
   "source": [
    "# First Method\n",
    "Students = ['Prajakta', 'Rujuta', 'Poonam', 'Shabdashree','Latika', 'Namita', 'Vandana']\n",
    "print(\"Third, fourth and fifth items in the list are :\", Students[2:5])"
   ]
  },
  {
   "cell_type": "code",
   "execution_count": 5,
   "metadata": {},
   "outputs": [
    {
     "name": "stdout",
     "output_type": "stream",
     "text": [
      "List index-value are : \n",
      "0 Prajakta\n",
      "Third, fourth and fifth items in the list are : ['Poonam', 'Shabdashree', 'Latika']\n",
      "Third items in the list is : Poonam\n",
      "1 Rujuta\n",
      "Third, fourth and fifth items in the list are : ['Poonam', 'Shabdashree', 'Latika']\n",
      "Third items in the list is : Poonam\n",
      "2 Poonam\n",
      "Third, fourth and fifth items in the list are : ['Poonam', 'Shabdashree', 'Latika']\n",
      "Third items in the list is : Poonam\n",
      "3 Shabdashree\n",
      "Third, fourth and fifth items in the list are : ['Poonam', 'Shabdashree', 'Latika']\n",
      "Third items in the list is : Poonam\n",
      "4 Latika\n",
      "Third, fourth and fifth items in the list are : ['Poonam', 'Shabdashree', 'Latika']\n",
      "Third items in the list is : Poonam\n",
      "5 Namita\n",
      "Third, fourth and fifth items in the list are : ['Poonam', 'Shabdashree', 'Latika']\n",
      "Third items in the list is : Poonam\n",
      "6 Vandana\n",
      "Third, fourth and fifth items in the list are : ['Poonam', 'Shabdashree', 'Latika']\n",
      "Third items in the list is : Poonam\n",
      "Fourth items in the list is : Shabdashree\n",
      "Fifth items in the list is : Namita\n"
     ]
    }
   ],
   "source": [
    "# Second Method\n",
    "indexes = ['Prajakta', 'Rujuta', 'Poonam', 'Shabdashree','Latika', 'Namita', 'Vandana']\n",
    "print (\"List index-value are : \") \n",
    "for index, value in zip(range(len(indexes)), indexes): \n",
    "    print (index, value)\n",
    "    print(\"Third, fourth and fifth items in the list are :\", indexes[2:5])\n",
    "    print(\"Third items in the list is :\", indexes[2])\n",
    "print(\"Fourth items in the list is :\", indexes[3])\n",
    "print(\"Fifth items in the list is :\", indexes[5])"
   ]
  },
  {
   "cell_type": "markdown",
   "metadata": {},
   "source": [
    "- Q.4 Remove the last element from the city list "
   ]
  },
  {
   "cell_type": "code",
   "execution_count": 8,
   "metadata": {},
   "outputs": [
    {
     "name": "stdout",
     "output_type": "stream",
     "text": [
      "City popped is :  Bangalore\n",
      "Remaning elements in the list is: ['Gurgaon', 'Mumbai']\n"
     ]
    }
   ],
   "source": [
    "# First Method\n",
    "cities = ['Gurgaon', 'Mumbai', 'Bangalore']\n",
    "print (\"City popped is : \", cities.pop(-1))\n",
    "print(\"Remaning elements in the list is:\",cities)"
   ]
  },
  {
   "cell_type": "code",
   "execution_count": 6,
   "metadata": {},
   "outputs": [
    {
     "name": "stdout",
     "output_type": "stream",
     "text": [
      "Bangalore\n",
      "['Gurgaon', 'Mumbai']\n"
     ]
    }
   ],
   "source": [
    "# Second Method\n",
    "City = ['Gurgaon', 'Mumbai', 'Bangalore']\n",
    "print(City[-1])\n",
    "print(City[0:2])"
   ]
  },
  {
   "cell_type": "code",
   "execution_count": 10,
   "metadata": {},
   "outputs": [
    {
     "name": "stdout",
     "output_type": "stream",
     "text": [
      "Remaning elements in the list is: ['Gurgaon', 'Mumbai']\n"
     ]
    }
   ],
   "source": [
    "# Third Method \n",
    "myList = ['Gurgaon', 'Mumbai', 'Bangalore']\n",
    "myList.remove(myList[len(myList)-1])\n",
    "print(\"Remaning elements in the list is:\",myList)"
   ]
  },
  {
   "cell_type": "markdown",
   "metadata": {},
   "source": [
    "- Q.5 fruits=[‘apple’,’lichi’,’guava’,’cherry’,’mango’,’watermelon’,’banana’] \n",
    "   \n",
    "       i) Add \"orange\" at the end of the above list. \n",
    "\n",
    "      ii) Add \"lemon\" as the second item in the fruits list "
   ]
  },
  {
   "cell_type": "code",
   "execution_count": 27,
   "metadata": {},
   "outputs": [
    {
     "name": "stdout",
     "output_type": "stream",
     "text": [
      "Added orange at the end of the list : ['apple', 'lichi', 'guava', 'cherry', 'mango', 'watermelon', 'banana', 'orange']\n"
     ]
    }
   ],
   "source": [
    "#  i) Add \"orange\" at the end of the above list. \n",
    "fruits=['apple','lichi','guava','cherry','mango','watermelon','banana']\n",
    "fruits.append('orange')\n",
    "print(\"Added orange at the end of the list :\",fruits)"
   ]
  },
  {
   "cell_type": "code",
   "execution_count": 30,
   "metadata": {},
   "outputs": [
    {
     "name": "stdout",
     "output_type": "stream",
     "text": [
      "Inserted lemon as the second item to the list : ['apple', 'lichi', 'lemon', 'guava', 'mango', 'watermelon', 'banana']\n"
     ]
    }
   ],
   "source": [
    "# ii) Add \"lemon\" as the second item in the fruits list.\n",
    "fruits.insert(2,'lemon')\n",
    "print(\"Inserted lemon as the second item to the list :\", fruits)"
   ]
  },
  {
   "cell_type": "markdown",
   "metadata": {},
   "source": [
    "- Q.6 Remove ‘cherry’ from the fruit list given above. "
   ]
  },
  {
   "cell_type": "code",
   "execution_count": 29,
   "metadata": {},
   "outputs": [
    {
     "name": "stdout",
     "output_type": "stream",
     "text": [
      "Removed cherry from the list : ['apple', 'lichi', 'guava', 'mango', 'watermelon', 'banana']\n"
     ]
    }
   ],
   "source": [
    "fruits=['apple','lichi','guava','cherry','mango','watermelon','banana']\n",
    "fruits.remove('cherry')\n",
    "print(\"Removed cherry from the list :\", fruits)"
   ]
  },
  {
   "cell_type": "markdown",
   "metadata": {},
   "source": [
    "- Q.7 Write the python program to let the user input a list of numbers and print the list in descending order. "
   ]
  },
  {
   "cell_type": "code",
   "execution_count": 35,
   "metadata": {},
   "outputs": [
    {
     "name": "stdout",
     "output_type": "stream",
     "text": [
      "Enter numbers separated by comma 23,69,99,45,18,85,73,56,78\n",
      "['23', '69', '99', '45', '18', '85', '73', '56', '78']\n",
      "Descending order list : ['99', '85', '78', '73', '69', '56', '45', '23', '18']\n"
     ]
    }
   ],
   "source": [
    "# First Method\n",
    "input_string = input(\"Enter numbers separated by comma \")\n",
    "num_list  = input_string.split(\",\")\n",
    "print(num_list)\n",
    "newList = sorted(num_list, reverse=True)\n",
    "print(\"Descending order list :\" ,newList)"
   ]
  },
  {
   "cell_type": "code",
   "execution_count": 11,
   "metadata": {},
   "outputs": [
    {
     "name": "stdout",
     "output_type": "stream",
     "text": [
      "Enter a list element separated by space:\n",
      "3 0 7 5 9 4 8 2\n",
      "After sorting the list in descending order: 9 8 7 5 4 3 2 0\n"
     ]
    }
   ],
   "source": [
    "# Second Method\n",
    "print(\"Enter a list element separated by space:\")\n",
    "nums = list(map(int, input().split()))\n",
    "nums.sort()\n",
    "nums.reverse()\n",
    "print(\"After sorting the list in descending order:\",*nums)"
   ]
  },
  {
   "cell_type": "markdown",
   "metadata": {},
   "source": [
    "- Q.8 Write the python program to let the user input two lists and combine both the lists. "
   ]
  },
  {
   "cell_type": "code",
   "execution_count": 38,
   "metadata": {},
   "outputs": [
    {
     "name": "stdout",
     "output_type": "stream",
     "text": [
      "Enter list1 by comma seperated values :45,79,51\n",
      "Enter list2 by comma seperated values :39,85,99\n",
      "Combined lists are : 45,79,51,39,85,99\n"
     ]
    }
   ],
   "source": [
    "# First Method\n",
    "list1=input(\"Enter list1 by comma seperated values :\")\n",
    "list2=input(\"Enter list2 by comma seperated values :\")\n",
    "list3=list1+','+list2\n",
    "print(\"Combined lists are :\" , list3)"
   ]
  },
  {
   "cell_type": "code",
   "execution_count": 12,
   "metadata": {},
   "outputs": [
    {
     "name": "stdout",
     "output_type": "stream",
     "text": [
      "Enter list1 by space seperated values :27 89 56\n",
      "Enter list2 by space seperated values :48 83 64\n",
      "Combined lists are : 27 89 56 48 83 64\n"
     ]
    }
   ],
   "source": [
    "# Second Method\n",
    "lis1=input(\"Enter list1 by space seperated values :\")\n",
    "lis2=input(\"Enter list2 by space seperated values :\")\n",
    "lis3=lis1+' '+lis2\n",
    "print(\"Combined lists are :\" , lis3)"
   ]
  },
  {
   "cell_type": "markdown",
   "metadata": {},
   "source": [
    "- Q.9 List = [10, 45, 78, 11, 9, 23]. Shuffle this list."
   ]
  },
  {
   "cell_type": "code",
   "execution_count": 40,
   "metadata": {},
   "outputs": [
    {
     "name": "stdout",
     "output_type": "stream",
     "text": [
      "Original list: [10, 45, 78, 11, 9, 23]\n",
      "List after first shuffle: [45, 10, 11, 23, 9, 78]\n",
      "List after second shuffle: [10, 11, 9, 23, 78, 45]\n"
     ]
    }
   ],
   "source": [
    "import random\n",
    "List = [10, 45, 78, 11, 9, 23]\n",
    "\n",
    "print(\"Original list:\", List)\n",
    "\n",
    "random.shuffle(List)\n",
    "print(\"List after first shuffle:\", List)\n",
    "\n",
    "random.shuffle(List)\n",
    "print(\"List after second shuffle:\", List)"
   ]
  },
  {
   "cell_type": "markdown",
   "metadata": {},
   "source": [
    "- Q.10 x = [10, [3.141, 20, [30, 'baz', 2.718]], 'foo'] \n",
    "\n",
    "       i) What is the expression that returns the 'z' in 'baz'?  \n",
    "       \n",
    "       ii) What expression returns the list ['baz', 2.718]? \n",
    "       "
   ]
  },
  {
   "cell_type": "code",
   "execution_count": 13,
   "metadata": {},
   "outputs": [
    {
     "name": "stdout",
     "output_type": "stream",
     "text": [
      "Expression that returns z in baz:  z\n"
     ]
    }
   ],
   "source": [
    "# i) What is the expression that returns the 'z' in 'baz'?  \n",
    "# First Method\n",
    "x = [10, [3.141, 20, [30, 'baz', 2.718]], 'foo']\n",
    "x[1][2][1][-1]\n",
    "print(\"Expression that returns z in baz: \", x[1][2][1][-1])"
   ]
  },
  {
   "cell_type": "code",
   "execution_count": 61,
   "metadata": {},
   "outputs": [
    {
     "name": "stdout",
     "output_type": "stream",
     "text": [
      "baz\n",
      "z\n"
     ]
    }
   ],
   "source": [
    "# i) What is the expression that returns the 'z' in 'baz'?  \n",
    "# Second Method\n",
    "x = [10, [3.141, 20, [30, 'baz', 2.718]], 'foo']\n",
    "print(x[1][2][1])\n",
    "print(x[1][2][1][2])\n",
    "# print(x[1][2][1:3])"
   ]
  },
  {
   "cell_type": "code",
   "execution_count": 68,
   "metadata": {},
   "outputs": [
    {
     "name": "stdout",
     "output_type": "stream",
     "text": [
      "[3.141, 20, [30, 'baz', 2.718]]\n",
      "[30, 'baz', 2.718]\n",
      "[30, 'baz', 2.718]\n",
      "baz\n",
      "baz\n",
      "z\n"
     ]
    }
   ],
   "source": [
    "# i) What is the expression that returns the 'z' in 'baz'?  \n",
    "# Third Method \n",
    "print(x[-2])\n",
    "print(x[1][2])\n",
    "print(x[1][-1])\n",
    "print(x[1][2][1])\n",
    "print(x[1][2][-2])\n",
    "print(x[1][2][1][-1])"
   ]
  },
  {
   "cell_type": "code",
   "execution_count": 14,
   "metadata": {},
   "outputs": [
    {
     "name": "stdout",
     "output_type": "stream",
     "text": [
      "['baz', 2.718]\n"
     ]
    }
   ],
   "source": [
    "# ii) What expression returns the list ['baz', 2.718]?  \n",
    "# First Method\n",
    "x = [10, [3.141, 20, [30, 'baz', 2.718]], 'foo']\n",
    "print(x[1][2][1:3])"
   ]
  },
  {
   "cell_type": "code",
   "execution_count": 16,
   "metadata": {},
   "outputs": [
    {
     "name": "stdout",
     "output_type": "stream",
     "text": [
      "Expression that returns list:  ['baz', 2.718]\n"
     ]
    }
   ],
   "source": [
    "# ii) What expression returns the list ['baz', 2.718]?  \n",
    "# Second Method\n",
    "x = [10, [3.141, 20, [30, 'baz', 2.718]], 'foo']\n",
    "print(\"Expression that returns list: \", x[1][2][-2:])"
   ]
  },
  {
   "cell_type": "markdown",
   "metadata": {},
   "source": [
    "- Q.11 Extract element 20 from the above list. "
   ]
  },
  {
   "cell_type": "code",
   "execution_count": 17,
   "metadata": {},
   "outputs": [
    {
     "name": "stdout",
     "output_type": "stream",
     "text": [
      "Extracted element 20 from the list : 20\n"
     ]
    }
   ],
   "source": [
    "x = [10, [3.141, 20, [30, 'baz', 2.718]], 'foo']\n",
    "print(\"Extracted element 20 from the list :\", x[1][1])"
   ]
  },
  {
   "cell_type": "markdown",
   "metadata": {},
   "source": [
    "- Q.12 You have a list a = [1, 2, 7, 8] \n",
    "       \n",
    " Write a Python statement using slice assignment that will fill in the missing values so that a equals [1, 2, 3, 4, 5, 6, 7, 8]\n"
   ]
  },
  {
   "cell_type": "code",
   "execution_count": 87,
   "metadata": {},
   "outputs": [
    {
     "name": "stdout",
     "output_type": "stream",
     "text": [
      "Missing values added to list a : [1, 2, 3, 4, 5, 6, 7, 8]\n"
     ]
    }
   ],
   "source": [
    "a = [1, 2, 7, 8]\n",
    "a[2:2]=[3,4,5,6]\n",
    "print(\"Missing values added to list a :\", a)"
   ]
  },
  {
   "cell_type": "code",
   "execution_count": null,
   "metadata": {},
   "outputs": [],
   "source": []
  }
 ],
 "metadata": {
  "kernelspec": {
   "display_name": "Python 3",
   "language": "python",
   "name": "python3"
  },
  "language_info": {
   "codemirror_mode": {
    "name": "ipython",
    "version": 3
   },
   "file_extension": ".py",
   "mimetype": "text/x-python",
   "name": "python",
   "nbconvert_exporter": "python",
   "pygments_lexer": "ipython3",
   "version": "3.7.6"
  }
 },
 "nbformat": 4,
 "nbformat_minor": 4
}
